{
 "cells": [
  {
   "cell_type": "markdown",
   "metadata": {},
   "source": [
    "Run the Models multiple times with different random seed generator to evaluate its robustness"
   ]
  },
  {
   "cell_type": "code",
   "execution_count": 8,
   "metadata": {},
   "outputs": [
    {
     "data": {
      "image/png": "[encoded data removed]",
      "text/plain": [
       "<Figure size 432x288 with 1 Axes>"
      ]
     },
     "metadata": {
      "needs_background": "light"
     },
     "output_type": "display_data"
    }
   ],
   "source": [
    "from filecmp import clear_cache\n",
    "import matplotlib.pyplot as plt\n",
    "import numpy as np\n",
    "\n",
    "clear_cache()\n",
    "\n",
    "def makeArrow(ax,pos, dx, function,direction):\n",
    "    delta = 0.000001 if direction >= 0 else -0.000001\n",
    "    dxHalf = dx/2\n",
    "    startX = pos-dxHalf\n",
    "    dy = function(pos+dxHalf) - function(startX) \n",
    "    ax.arrow(startX,function(startX),dx,dy,head_width=0.1,head_length=0.1,color = 'b')\n",
    "\n",
    "def makeMoreArrow(ax, posStart, posEnd, function, direction):\n",
    "    increment = (posEnd - posStart)/20\n",
    "    for pos in np.arange(posStart, posEnd+increment, increment):\n",
    "        makeArrow(ax, pos, increment, function, direction)\n",
    "\n",
    "plt.figure\n",
    "fun = np.sin\n",
    "limits = [-10,10]\n",
    "t = np.linspace(limits[0], limits[1], 100)\n",
    "ax = plt.axes()\n",
    "makeArrow(ax,0, 0.1,fun,+1)\n",
    "plt.plot(t, fun(t))\n",
    "#makeMoreArrow(ax,limits[0], limits[1],fun,+1)\n",
    "plt.show\n",
    "plt.show()"
   ]
  },
  {
   "cell_type": "markdown",
   "metadata": {},
   "source": [
    "Data Analysis.ipynb Trash Codes"
   ]
  },
  {
   "cell_type": "code",
   "execution_count": null,
   "metadata": {},
   "outputs": [],
   "source": [
    "def plttarget(targets, titles):\n",
    "    ticksize = 15\n",
    "    fsize = 16\n",
    "    ''' To plot distributions of the target features'''\n",
    "    '''To plot subplots for Syngas ratio, CH4 conversion and CO2 conversion'''\n",
    "    '''\n",
    "    plt.figure(figsize=(5,5))\n",
    "    plt.hist(targets[0], bins=50)\n",
    "    plt.xticks(fontsize= ticksize)\n",
    "    plt.yticks(fontsize= ticksize)\n",
    "    plt.ylabel(\"N\",fontsize=fsize)\n",
    "    #plt.xlabel(\"Syngas Ratio\",fontsize=18)\n",
    "    plt.title(titles[0],fontsize=fsize)\n",
    "    plt.show()'''\n",
    "\n",
    "    plt.figure(figsize=(5,5))\n",
    "    plt.hist(targets[1], bins=50)\n",
    "    plt.xticks(fontsize= ticksize)\n",
    "    plt.yticks(fontsize= ticksize)\n",
    "    plt.ylabel(\"N\",fontsize=fsize)\n",
    "    #plt.xlabel(\"$CH_{4}$ Conversion\",fontsize=18)\n",
    "    plt.title(titles[1],fontsize=fsize)\n",
    "    plt.show()\n",
    "\n",
    "    plt.figure(figsize=(5,5))\n",
    "    plt.hist(targets[2], bins=50)\n",
    "    plt.xticks(fontsize= ticksize)\n",
    "    plt.yticks(fontsize= ticksize)\n",
    "    plt.ylabel(\"N\",fontsize=fsize)\n",
    "    #plt.xlabel(\"$CO_{2}$ Conversion\",fontsize=18)\n",
    "    plt.title(titles[2],fontsize=fsize)\n",
    "    #plt.tight_layout\n",
    "    plt.show()\n",
    "\n",
    "def pltCorrelation():\n",
    "    pass\n",
    "    '''\n",
    "    # To plot heat map for only targets\n",
    "    corr2 = df.iloc[:,-4:].corr() # 1:-3 to exclude name\n",
    "    corr2.style.background_gradient(cmap='coolwarm', axis=None).set_precision(2)\n",
    "    plt.figure()\n",
    "    plt.title(\"Heat Map of covariance matrix for Targets\", fontsize=15,weight='bold')\n",
    "    sns.heatmap(corr2, xticklabels=corr2.columns.values, center=0,vmin=-1,yticklabels=corr2.columns.values, linewidths=.5, cmap=\"Spectral_r\",annot=True, fmt=\".2f\")\n",
    "    plt.show()\n",
    "\n",
    "    # To plot heat map for both targets and features\n",
    "    corr3 = df.iloc[:,1:].corr() # 1:-3 to exclude name\n",
    "    corr3.style.background_gradient(cmap='coolwarm', axis=None).set_precision(2)\n",
    "    plt.figure(figsize=(11.5,9))\n",
    "    plt.title(\"Heat Map of covariance matrix for both features and targets\", fontsize=24)\n",
    "    sns.heatmap(corr3, xticklabels=corr3.columns.values, center=0,vmin=-1,yticklabels=corr3.columns.values, linewidths=.5, cmap=\"Spectral_r\",annot=True, fmt=\".2f\")\n",
    "    plt.show()'''"
   ]
  },
  {
   "cell_type": "markdown",
   "metadata": {},
   "source": [
    "Syngas.ipynb Trash Codes"
   ]
  },
  {
   "cell_type": "code",
   "execution_count": null,
   "metadata": {},
   "outputs": [],
   "source": [
    "def plthist(df, filterdf = True, disp = False):\n",
    "    '''plot histograms of features values'''\n",
    "    thres = 0.005\n",
    "    upperq = 1-thres \n",
    "    df3 = df\n",
    "    if filterdf:\n",
    "        df3 = df3.loc[df[\"Pore Volume \"] <= df[\"Pore Volume \"].quantile(upperq)]\n",
    "        df3 = df3.loc[df[\"GHSV\"] <= df[\"GHSV\"].quantile(upperq)]\n",
    "        df3 = df3.loc[df[\"Modifier Electronegativity\"] <= 2.5]\n",
    "        df3 = df3.loc[df[\"Pore Size\"] <= df[\"Pore Size\"].quantile(upperq)]\n",
    "        df3 = df3.loc[df[\"Ni Loading\"] <= df[\"Ni Loading\"].quantile(upperq)]\n",
    "        df3 = df3.loc[df[\"Ni Particle Size (nm)\"] <= df[\"Ni Particle Size (nm)\"].quantile(upperq)]\n",
    "        df3 = df3.loc[df[\"H2-TPR Peak Temperature\"] >= 300]\n",
    "    if disp:\n",
    "        df3 = df3.loc[df[\"Ni Dispersion (%)\"] <= 30]\n",
    "    fig = df3.hist(bins=40, figsize=(10, 9))\n",
    "    print(len(df3.index))\n",
    "    fig = plt.gcf()\n",
    "    fig.subplots_adjust(wspace=0.3, hspace=0.4)\n",
    "    plt.show()"
   ]
  },
  {
   "cell_type": "code",
   "execution_count": 1,
   "metadata": {},
   "outputs": [
    {
     "data": {
      "text/plain": [
       "'def average(*args):\\n    return sum(*args)/len(*args)\\n    \\ndef plothist(arr):\\n    plt.figure()\\n    plt.hist(np.asarray(arr), bins=25)\\n    plt.show()\\n\\ndef meandict(d):\\n    res = 0 \\n    for val in d.values():\\n        res += val\\n    return res/len(d)\\n\\ndef analyze(d,a):\\n    print(d)\\n    print(\"The mean score of the dictionary: {}, and no. of score: {}\".format(meandict(d), len(d)))\\n    plothist(a)\\n    print(\"The average score of the entire array is {}\".format(np.average(a)))\\n\\ndef run(X,y, testrf=True):\\n    n = 100\\n    arr_rf, arr_gbr,arr_cat = [],[],[]\\n    d_rf, d_gbr, d_cat = {},{},{}\\n    threshold = 0.7\\n    for i in range(0,n):\\n        X_train, X_test, y_train, y_test = splitdata(X,y, i)\\n        # Test RF\\n        core1, rlst = rf(X_train, X_test, y_train, y_test)\\n        score1 = score1[1]\\n        arr_rf.append(score1)\\n        if score1 > threshold:\\n            d_rf[i] = score1\\n\\n        # Test GBR\\n\\n        score2, glst = gbr(X_train, X_test, y_train, y_test)\\n        score2 = score2[1]\\n        arr_gbr.append(score2)\\n        if score2 > threshold:\\n            d_gbr[i] = score2\\n\\n        # test CAT\\n        score3, clst = cat(X_train, X_test, y_train, y_test)\\n        score3 = score3[1]\\n        arr_cat.append(score3)\\n        if score3 > threshold:\\n            d_cat[i] = score3\\n        \\n        #print(score1,score2, score3)\\n        \\n    #analyze(d_rf, arr_rf)\\n    #analyze(d_gbr, arr_gbr)\\n    analyze(d_cat, arr_cat)\\n    return arr_cat, arr_gbr, arr_cat, d_rf, d_gbr, d_cat\\n\\narrrf, arrgbr, arrcat, drf, dgbr, dcat = run(X,y)'"
      ]
     },
     "execution_count": 1,
     "metadata": {},
     "output_type": "execute_result"
    }
   ],
   "source": [
    "'''def average(*args):\n",
    "    return sum(*args)/len(*args)\n",
    "    \n",
    "def plothist(arr):\n",
    "    plt.figure()\n",
    "    plt.hist(np.asarray(arr), bins=25)\n",
    "    plt.show()\n",
    "\n",
    "def meandict(d):\n",
    "    res = 0 \n",
    "    for val in d.values():\n",
    "        res += val\n",
    "    return res/len(d)\n",
    "\n",
    "def analyze(d,a):\n",
    "    print(d)\n",
    "    print(\"The mean score of the dictionary: {}, and no. of score: {}\".format(meandict(d), len(d)))\n",
    "    plothist(a)\n",
    "    print(\"The average score of the entire array is {}\".format(np.average(a)))\n",
    "\n",
    "def run(X,y, testrf=True):\n",
    "    n = 100\n",
    "    arr_rf, arr_gbr,arr_cat = [],[],[]\n",
    "    d_rf, d_gbr, d_cat = {},{},{}\n",
    "    threshold = 0.7\n",
    "    for i in range(0,n):\n",
    "        X_train, X_test, y_train, y_test = splitdata(X,y, i)\n",
    "        # Test RF\n",
    "        core1, rlst = rf(X_train, X_test, y_train, y_test)\n",
    "        score1 = score1[1]\n",
    "        arr_rf.append(score1)\n",
    "        if score1 > threshold:\n",
    "            d_rf[i] = score1\n",
    "\n",
    "        # Test GBR\n",
    "\n",
    "        score2, glst = gbr(X_train, X_test, y_train, y_test)\n",
    "        score2 = score2[1]\n",
    "        arr_gbr.append(score2)\n",
    "        if score2 > threshold:\n",
    "            d_gbr[i] = score2\n",
    "\n",
    "        # test CAT\n",
    "        score3, clst = cat(X_train, X_test, y_train, y_test)\n",
    "        score3 = score3[1]\n",
    "        arr_cat.append(score3)\n",
    "        if score3 > threshold:\n",
    "            d_cat[i] = score3\n",
    "        \n",
    "        #print(score1,score2, score3)\n",
    "        \n",
    "    #analyze(d_rf, arr_rf)\n",
    "    #analyze(d_gbr, arr_gbr)\n",
    "    analyze(d_cat, arr_cat)\n",
    "    return arr_cat, arr_gbr, arr_cat, d_rf, d_gbr, d_cat\n",
    "\n",
    "arrrf, arrgbr, arrcat, drf, dgbr, dcat = run(X,y)'''"
   ]
  },
  {
   "cell_type": "code",
   "execution_count": null,
   "metadata": {},
   "outputs": [],
   "source": [
    "    '''\n",
    "    for perc in frange:\n",
    "        inputX = dfCopy # input features at mean value\n",
    "        #print(inputX)\n",
    "        inputX[str(feature)] = (perc) # input feature with the modified value\n",
    "        #print(inputX[str(feature)])\n",
    "        #print(inputX)\n",
    "        partial_dependence(mdlX, features=[0], X=X, percentiles=(0.05, 0.95),grid_resolution=25)\n",
    "        partial_dependence(mdlZ, features=[0], X=X, percentiles=(0.05, 0.95),grid_resolution=25)\n",
    "        ch4conv.append(mdlX.predict(inputX).mean())\n",
    "        #co2conv.append(mdlY.predict(inputX))\n",
    "        syngas.append(mdlZ.predict(inputX).mean())\n",
    "        '''"
   ]
  },
  {
   "cell_type": "code",
   "execution_count": null,
   "metadata": {},
   "outputs": [],
   "source": [
    "# GridSearch\n",
    "def gridsearch(model, Xtrain, ytrain):\n",
    "    '''For hyperparameter optimization, change grid if required, e.g. 'n_estimators' '''\n",
    "    grid = {'learning_rate' : [i for i in np.arange(0.01,0.5,0.01)]}\n",
    "    grid_search_result = GridSearchCV(estimator=model, param_grid = grid, cv = 2, n_jobs=-1, verbose=0)\n",
    "    grid_search_result.fit(Xtrain, ytrain)\n",
    "    print(\"Best parameters from grid search: {}\".format(grid_search_result.best_params_))\n",
    "    print(\"Best Lowest RMSE: {}\".format(grid_search_result.best_score_))\n",
    "    return  grid_search_result\n",
    "\n",
    "\n",
    "def plttree(model, rf=False):\n",
    "    if rf:\n",
    "        model = model.estimators_[0]\n",
    "    global X\n",
    "    plt.figure(figsize=(80,40))\n",
    "    tree.plot_tree(model, feature_names=X.columns, filled =True, fontsize=12)\n",
    "    plt.show()\n",
    "\n",
    "def crossval(X,y, reg, name):\n",
    "    cv = ShuffleSplit(test_size=0.1, n_splits = 10)\n",
    "    cval_score = cross_val_score(reg, X, y, cv=cv, scoring=\"r2\")\n",
    "    print(f\"The mean score from Shuffle-Split cross validation for the {name} model is {np.around(cval_score.mean(),decimals=3)} and the standard deviation is {np.around(cval_score.std(),decimals = 3)}\")\n",
    "    return cval_score\n",
    "\n",
    "def crossvalAll(X,y):\n",
    "    crossval(X,y, RandomForestRegressor(n_estimators=2000, max_depth=100,random_state=0) , \"RF\")\n",
    "    crossval(X,y, GradientBoostingRegressor(n_estimators=1000, learning_rate=5e-3, subsample=0.7, max_depth = 10, random_state = 1) , \"GBR\")\n",
    "    crossval(X,y, CatBoostRegressor(n_estimators= 1000, depth = 8, verbose=0) , \"CatBoost\")\n",
    "\n",
    "#crossvalAll(X, y1) # -> For CH4 conversion\n",
    "#crossvalAll(X, y2) # -> For CO2 conversion"
   ]
  },
  {
   "cell_type": "code",
   "execution_count": null,
   "metadata": {},
   "outputs": [],
   "source": [
    "def crossval(X,y, reg, name, rs):\n",
    "    cv = ShuffleSplit(test_size=0.1, n_splits = 10,  random_state=rs)\n",
    "    #cv = KFold(n_splits=10, random_state=rs, shuffle=True)\n",
    "    cval_score = cross_val_score(reg, X, y, cv=cv, scoring=\"r2\")\n",
    "    print(f\"The mean score from Shuffle-Split cross validation for the {name} model is {np.around(cval_score.mean(),decimals=3)} and the standard deviation is {np.around(cval_score.std(),decimals = 3)}\")\n",
    "    return cval_score\n",
    "\n",
    "def crossvalAll(X,y):\n",
    "    #crossval(X,y, RandomForestRegressor(n_estimators=2000, max_depth=100,random_state=0) , \"RF\", 8)\n",
    "    #crossval(X,y, GradientBoostingRegressor(n_estimators=1000, learning_rate=5e-3, subsample=0.7, max_depth = 10, random_state = 1) , \"GBR\", 8)\n",
    "    for i in range(45,100):\n",
    "        cs = crossval(X,y, CatBoostRegressor(n_estimators= 1000, depth = 9, verbose=0) , \"CatBoost\",i)\n",
    "        if (cs.mean() > 0.81):\n",
    "            print(f\"The score is {cs.mean()} at randomn-state = {i}\")\n",
    "\n",
    "#crossvalAll(X, y) # -> For CH4 conversion"
   ]
  },
  {
   "cell_type": "code",
   "execution_count": null,
   "metadata": {},
   "outputs": [],
   "source": [
    "def twod_pdp(model, Xtrain, feature_tuple, grid=40, low=0,up=0.95):\n",
    "    plt.figure()\n",
    "    fig = PartialDependenceDisplay.from_estimator(model,Xtrain, features = [feature_tuple], feature_names=X.columns,\n",
    "    n_jobs=3, grid_resolution=grid, percentiles = (low,up), line_kw = {\"linestyle\":\"--\",\"linewidth\":2, \"marker\":\"o\", \"markersize\":3})\n",
    "    plt.show()\n"
   ]
  }
 ],
 "metadata": {
  "kernelspec": {
   "display_name": "Python 3.10.4 64-bit",
   "language": "python",
   "name": "python3"
  },
  "language_info": {
   "codemirror_mode": {
    "name": "ipython",
    "version": 3
   },
   "file_extension": ".py",
   "mimetype": "text/x-python",
   "name": "python",
   "nbconvert_exporter": "python",
   "pygments_lexer": "ipython3",
   "version": "3.10.4"
  },
  "orig_nbformat": 4,
  "vscode": {
   "interpreter": {
    "hash": "2c06659332f50c32a09d74306feb8cfd973c662145127484cf2cdcfbeb6f5d92"
   }
  }
 },
 "nbformat": 4,
 "nbformat_minor": 2
}
